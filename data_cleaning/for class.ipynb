{
 "cells": [
  {
   "cell_type": "code",
   "execution_count": 1,
   "id": "f61155cb-a895-43fb-bf31-246c7c520cf6",
   "metadata": {},
   "outputs": [],
   "source": [
    "import pyarrow as pa\n",
    "from pyarrow import parquet\n",
    "import polars as pl\n",
    "from pathlib import Path\n"
   ]
  },
  {
   "cell_type": "code",
   "execution_count": 2,
   "id": "aacc9202-d0ff-408b-8065-5f310ed49d6f",
   "metadata": {},
   "outputs": [],
   "source": [
    "import pyarrow.compute as pc"
   ]
  },
  {
   "cell_type": "code",
   "execution_count": 3,
   "id": "be08053a-990c-4b15-9ce9-16203cbef6d3",
   "metadata": {},
   "outputs": [
    {
     "name": "stdout",
     "output_type": "stream",
     "text": [
      "Requirement already satisfied: pyarrow in /Users/bschmidt/opt/miniconda3/envs/tf/lib/python3.8/site-packages (7.0.0)\n",
      "Requirement already satisfied: numpy>=1.16.6 in /Users/bschmidt/opt/miniconda3/envs/tf/lib/python3.8/site-packages (from pyarrow) (1.19.2)\n"
     ]
    }
   ],
   "source": [
    "!pip install --upgrade pyarrow"
   ]
  },
  {
   "cell_type": "code",
   "execution_count": 4,
   "id": "de35925f-2ec6-413d-9d3d-a94fa6727a83",
   "metadata": {},
   "outputs": [],
   "source": [
    "paths = [*Path(\"parquet\").glob(\"*.parquet\")]\n",
    "path = paths[10]\n"
   ]
  },
  {
   "cell_type": "code",
   "execution_count": 7,
   "id": "997afc72-6951-4d2c-b77d-63f0e4a9b4a5",
   "metadata": {},
   "outputs": [],
   "source": [
    "def read(path):\n",
    "    dest = Path(\"simple_parquet\") / path.name\n",
    "    if dest.exists():\n",
    "        return\n",
    "    print(dest)\n",
    "    m = parquet.read_table(path)\n",
    "\n",
    "    name, occ, place = m['corrected_entry'].flatten()\n",
    "\n",
    "    occ_name, occ_certainty = pc.list_flatten(occ).flatten()\n",
    "    parents = pc.take(m['entry_uuid'], pc.list_parent_indices(occ))\n",
    "    occs = pl.DataFrame({\n",
    "        'occupation': pl.from_arrow(occ_name), \n",
    "        'entry_uuid': pl.from_arrow(parents), \n",
    "        'occ_certainty': pl.from_arrow(occ_certainty)\n",
    "    })\n",
    "\n",
    "    df = pl.from_arrow(m.select(['entry_uuid', 'directory_year', 'labeled_black', 'labeled_widow', 'complete_entry'])).lazy()\n",
    "\n",
    "    name_array = name.combine_chunks()\n",
    "    parents = pc.take(m['entry_uuid'], pc.list_parent_indices(name_array))\n",
    "    #occs = pl.DataFrame({'occupation': pl.from_arrow(occ_name.combine_chunks()), 'entry_uuid': pl.from_arrow(parents), 'occ_certainty': pl.from_arrow(occ_certainty.combine_chunks())})\n",
    "    names = pl.DataFrame({'entry_uuid': pl.from_arrow(parents), 'name': pl.from_arrow(name_array.flatten())})\n",
    "\n",
    "    addr_name, addr_certainty, addr_type = pc.list_flatten(place).flatten()\n",
    "    parents = pc.take(m['entry_uuid'], pc.list_parent_indices(place))\n",
    "    #occs = pl.DataFrame({'occupation': pl.from_arrow(occ_name.combine_chunks()), 'entry_uuid': pl.from_arrow(parents), 'occ_certainty': pl.from_arrow(occ_certainty.combine_chunks())})\n",
    "    first_type = pc.list_element(addr_type, 0)\n",
    "    addr_type = pl.from_arrow(addr_type)\n",
    "    places = pl.DataFrame(\n",
    "      {\n",
    "        'entry_uuid': pl.from_arrow(parents),\n",
    "        'addr_name': pl.from_arrow(addr_name),\n",
    "        'addr_certainty': pl.from_arrow(addr_certainty).cast(pl.Int8),\n",
    "        'addr_h': addr_type.arr.contains(\"h\"),\n",
    "        'addr_r': addr_type.arr.contains(\"r\"),\n",
    "        'addr_ft': addr_type.arr.contains(\"ft\")\n",
    "      })\n",
    "\n",
    "    combined = places.lazy().join(occs.lazy(), on = ['entry_uuid'], how = 'outer').join(names.lazy(), how='outer', on='entry_uuid').join(df, on=['entry_uuid'], how = 'outer')\n",
    "    combined.head(10).collect()\n",
    "\n",
    "    combined.select([\n",
    "        pl.col('entry_uuid'),\n",
    "        pl.col('addr_name'),\n",
    "        \"addr_certainty\",\n",
    "        'addr_h',\n",
    "        'addr_r',\n",
    "        'addr_ft',\n",
    "        'occupation',\n",
    "        pl.col('occ_certainty').cast(pl.Int8),#.alias('occ_certainty'),\n",
    "        'name',\n",
    "        'directory_year', \n",
    "        pl.col('labeled_black').cast(pl.Int8).cast(pl.Boolean),\n",
    "        pl.col('labeled_widow').cast(pl.Int8).cast(pl.Boolean),\n",
    "    ]).collect().to_parquet(dest)"
   ]
  },
  {
   "cell_type": "code",
   "execution_count": 8,
   "id": "28a278bd-53a5-4382-a2ec-8300aaf0485d",
   "metadata": {},
   "outputs": [
    {
     "name": "stdout",
     "output_type": "stream",
     "text": [
      "simple_parquet/1869.parquet\n"
     ]
    }
   ],
   "source": [
    "for path in paths:\n",
    "    read(path)"
   ]
  },
  {
   "cell_type": "code",
   "execution_count": null,
   "id": "f7590b2b-1990-437c-bdab-bc6706e0e2da",
   "metadata": {},
   "outputs": [],
   "source": []
  },
  {
   "cell_type": "code",
   "execution_count": null,
   "id": "f34e95b8-7fb2-440b-9e0b-acd8ff6042a2",
   "metadata": {},
   "outputs": [],
   "source": []
  },
  {
   "cell_type": "code",
   "execution_count": null,
   "id": "fed85ab4-c0db-4d3c-81d8-1f073116b6e4",
   "metadata": {},
   "outputs": [],
   "source": []
  },
  {
   "cell_type": "code",
   "execution_count": null,
   "id": "655bd1be-fd7e-4226-9606-0435d356e52c",
   "metadata": {},
   "outputs": [],
   "source": [
    "len(pc.list_parent_indices(occ)"
   ]
  },
  {
   "cell_type": "code",
   "execution_count": null,
   "id": "37a98bfc-2920-493a-ad29-1db5edf211a6",
   "metadata": {},
   "outputs": [],
   "source": [
    "len(occ)"
   ]
  },
  {
   "cell_type": "code",
   "execution_count": null,
   "id": "1e605f33-d1f7-48bf-95d0-041aca29749e",
   "metadata": {},
   "outputs": [],
   "source": []
  }
 ],
 "metadata": {
  "kernelspec": {
   "display_name": "Python 3",
   "language": "python",
   "name": "python3"
  },
  "language_info": {
   "codemirror_mode": {
    "name": "ipython",
    "version": 3
   },
   "file_extension": ".py",
   "mimetype": "text/x-python",
   "name": "python",
   "nbconvert_exporter": "python",
   "pygments_lexer": "ipython3",
   "version": "3.8.5"
  }
 },
 "nbformat": 4,
 "nbformat_minor": 5
}
